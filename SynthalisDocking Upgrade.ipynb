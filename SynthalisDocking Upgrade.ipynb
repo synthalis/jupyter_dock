{
 "cells": [
  {
   "cell_type": "markdown",
   "id": "7bae40dc-0b43-4ab8-adf3-aba3eac30da9",
   "metadata": {},
   "source": [
    "# SYNTHALIS DOCKING\n",
    "\n",
    "#  Upgraded Synthalis Molecular Docking Workflow\n",
    "# **Features**:\n",
    "# - Multiple ligand/receptor input\n",
    "# - Automatic structure preparation\n",
    "# - Cross-docking results matrix"
   ]
  },
  {
   "cell_type": "markdown",
   "id": "04273342-469d-4627-ba0f-96080c8d8af0",
   "metadata": {},
   "source": [
    "## Imports and Setup"
   ]
  },
  {
   "cell_type": "code",
   "execution_count": 1,
   "id": "f975b88c-2088-4f0a-8ecc-4188cbab8f51",
   "metadata": {},
   "outputs": [
    {
     "name": "stdout",
     "output_type": "stream",
     "text": [
      "✅ Environment initialized\n"
     ]
    }
   ],
   "source": [
    "import os\n",
    "import re\n",
    "import sys\n",
    "import shutil\n",
    "import requests\n",
    "import numpy as np \n",
    "import pandas as pd\n",
    "import py3Dmol\n",
    "import subprocess\n",
    "import ipywidgets as widgets\n",
    "from pathlib import Path\n",
    "from IPython.display import display, clear_output, HTML\n",
    "from rdkit import Chem\n",
    "from rdkit.Chem import AllChem\n",
    "from rdkit import RDLogger\n",
    "RDLogger.DisableLog('rdApp.*')\n",
    "\n",
    "# Configure directories\n",
    "BASE_DIR = Path.cwd()\n",
    "DATA_DIR = BASE_DIR / \"synthalisdock_data\"\n",
    "RECEPTOR_DIR = DATA_DIR / \"receptors\"\n",
    "LIGAND_DIR = DATA_DIR / \"ligands\"\n",
    "RESULTS_DIR = DATA_DIR / \"results\"\n",
    "\n",
    "# Create directories\n",
    "for d in [DATA_DIR, RECEPTOR_DIR, LIGAND_DIR, RESULTS_DIR]:\n",
    "    d.mkdir(exist_ok=True)\n",
    "\n",
    "print(\"✅ Environment initialized\")\n"
   ]
  },
  {
   "cell_type": "markdown",
   "id": "e9b1bbb9-5021-491e-8480-5b66f823892e",
   "metadata": {},
   "source": [
    " ##  TOOL VERIFICATION"
   ]
  },
  {
   "cell_type": "markdown",
   "id": "003ed37a-04de-4fce-8541-b0af8b3707a1",
   "metadata": {},
   "source": [
    "## Check Tools"
   ]
  },
  {
   "cell_type": "code",
   "execution_count": 2,
   "id": "1509bba0-8bdf-47fc-9b15-3c786d460ab7",
   "metadata": {},
   "outputs": [
    {
     "name": "stdout",
     "output_type": "stream",
     "text": [
      "✅ Found prepare_receptor4.py at: /home/imraan/mgltools_x86_64Linux2_1.5.7/bin/prepare_receptor4.py\n",
      "✅ Found prepare_ligand4.py at: /home/imraan/mgltools_x86_64Linux2_1.5.7/bin/prepare_ligand4.py\n",
      "✅ Found vina at: /home/imraan/miniforge3/envs/molecule_dock/bin/vina\n",
      "✅ Found obabel at: /home/imraan/Downloads/Jupyter_Dock/mgltools_x86_64Linux2_1.5.7/bin/obabel\n",
      "Missing required tools:\n",
      "❌ python2 (Python 2)\n",
      "\n",
      "Install with:\n",
      "sudo apt-get install autodock-vina openbabel\n",
      "And install MGLTools from http://mgltools.scripps.edu\n"
     ]
    }
   ],
   "source": [
    "def check_tools_installed():\n",
    "    \"\"\"Verify required tools are available\"\"\"\n",
    "    required_tools = {\n",
    "        'python2': 'Python 2',\n",
    "        'prepare_receptor4.py': 'AutoDockTools',\n",
    "        'prepare_ligand4.py': 'AutoDockTools', \n",
    "        'vina': 'AutoDock Vina',\n",
    "        'obabel': 'OpenBabel'\n",
    "    }\n",
    "\n",
    "    missing = []\n",
    "    for tool, src in required_tools.items():\n",
    "        path = shutil.which(tool)\n",
    "        if not path:\n",
    "            missing.append(f\"{tool} ({src})\")\n",
    "        else:\n",
    "            print(f\"✅ Found {tool} at: {path}\")\n",
    "\n",
    "    if missing:\n",
    "        raise RuntimeError(\n",
    "            \"Missing required tools:\\n\" + \n",
    "            \"\\n\".join(f\"❌ {m}\" for m in missing) +\n",
    "            \"\\n\\nInstall with:\\n\" +\n",
    "            \"sudo apt-get install autodock-vina openbabel\\n\" +\n",
    "            \"And install MGLTools from http://mgltools.scripps.edu\"\n",
    "        )\n",
    "\n",
    "# Test tools\n",
    "try:\n",
    "    check_tools_installed()\n",
    "    print(\"🎉 All tools configured!\")\n",
    "except Exception as e:\n",
    "    print(e)\n"
   ]
  },
  {
   "cell_type": "markdown",
   "id": "b2a23299-257f-45a1-8f0c-796dc8009e15",
   "metadata": {},
   "source": [
    "## Receptor Preparation "
   ]
  },
  {
   "cell_type": "code",
   "execution_count": 3,
   "id": "cb47df37-9ee2-4895-9206-901c8893d28d",
   "metadata": {},
   "outputs": [
    {
     "name": "stdout",
     "output_type": "stream",
     "text": [
      "  - Downloading P00520...\n",
      "Test receptor saved to: /home/imraan/Jupyter_Dock/synthalisdock_data/receptors/receptor_P00520.pdb\n"
     ]
    }
   ],
   "source": [
    "def prepare_receptor(uniprot_id):\n",
    "    \"\"\"Download protein structure from AlphaFold\"\"\"\n",
    "    try:\n",
    "        # Validate UniProt ID format\n",
    "        if not re.match(r\"^[A-Z0-9]{6,10}$\", uniprot_id):\n",
    "            raise ValueError(f\"Invalid UniProt ID format: {uniprot_id}\")\n",
    "            \n",
    "        af_url = f\"https://alphafold.ebi.ac.uk/files/AF-{uniprot_id}-F1-model_v4.pdb\"\n",
    "        local_file = RECEPTOR_DIR / f\"receptor_{uniprot_id}.pdb\"\n",
    "        \n",
    "        print(f\"  - Downloading {uniprot_id}...\")\n",
    "        response = requests.get(af_url, timeout=30)\n",
    "        response.raise_for_status()\n",
    "        \n",
    "        with open(local_file, 'w') as f:\n",
    "            f.write(response.text)\n",
    "            \n",
    "        return str(local_file)\n",
    "    except Exception as e:\n",
    "        print(f\"❌ Failed to prepare receptor {uniprot_id}: {str(e)}\")\n",
    "        return None\n",
    "\n",
    "# Test receptor download\n",
    "test_receptor = prepare_receptor(\"P00520\")  # Try with tyrosine kinase\n",
    "print(f\"Test receptor saved to: {test_receptor}\")"
   ]
  },
  {
   "cell_type": "code",
   "execution_count": 4,
   "id": "98f7b00c-68ba-4e72-92ed-9f756a89e22d",
   "metadata": {},
   "outputs": [
    {
     "name": "stdout",
     "output_type": "stream",
     "text": [
      "OpenBabel path: /home/imraan/Downloads/Jupyter_Dock/mgltools_x86_64Linux2_1.5.7/bin/obabel\n"
     ]
    }
   ],
   "source": [
    "import shutil\n",
    "print(\"OpenBabel path:\", shutil.which(\"obabel\"))"
   ]
  },
  {
   "cell_type": "markdown",
   "id": "042bff0f-4e0f-4a20-a720-bc488809e684",
   "metadata": {},
   "source": [
    "## Ligand Preparation"
   ]
  },
  {
   "cell_type": "code",
   "execution_count": 5,
   "id": "d1aeaa8a-6445-4f8c-8ef3-530fd4569d31",
   "metadata": {},
   "outputs": [],
   "source": [
    "def prepare_ligand(smiles: str, idx: int):\n",
    "    \"\"\"Convert SMILES to 3D structure\"\"\"\n",
    "    try:\n",
    "        mol = Chem.MolFromSmiles(smiles)\n",
    "        if not mol:\n",
    "            raise ValueError(\"Invalid SMILES\")\n",
    "            \n",
    "        mol = Chem.AddHs(mol)\n",
    "        AllChem.EmbedMolecule(mol)\n",
    "        AllChem.MMFFOptimizeMolecule(mol)\n",
    "        \n",
    "        lig_file = LIGAND_DIR / f\"ligand_{idx}.pdb\"\n",
    "        lig_file.unlink(missing_ok=True)  # Remove if exists\n",
    "        \n",
    "        with Chem.PDBWriter(str(lig_file)) as w:\n",
    "            w.write(mol)\n",
    "            \n",
    "        if not lig_file.exists():\n",
    "            raise IOError(\"Failed to save ligand\")\n",
    "            \n",
    "        return str(lig_file)\n",
    "    except Exception as e:\n",
    "        print(f\"Ligand {idx} failed: {str(e)}\")\n",
    "        return None\n"
   ]
  },
  {
   "cell_type": "markdown",
   "id": "2e026fec-d855-48dd-b1e5-da1618e46942",
   "metadata": {},
   "source": [
    "## AUTODOCK Vina Execution"
   ]
  },
  {
   "cell_type": "code",
   "execution_count": null,
   "id": "41c3c172-2d7d-4a6b-b385-7da9b1d846e0",
   "metadata": {},
   "outputs": [],
   "source": [
    "# ======================\n",
    "# UPDATED DOCKING FUNCTION\n",
    "# ======================\n",
    "\n",
    "def run_vina_docking(rec_pdbqt, lig_pdbqt, output_dir):\n",
    "    \"\"\"Run AutoDock Vina docking with comprehensive error handling\"\"\"\n",
    "    try:\n",
    "        output_dir.mkdir(exist_ok=True, parents=True)\n",
    "        \n",
    "        # Verify input files exist\n",
    "        if not rec_pdbqt.exists():\n",
    "            raise FileNotFoundError(f\"Receptor file not found: {rec_pdbqt}\")\n",
    "        if not lig_pdbqt.exists():\n",
    "            raise FileNotFoundError(f\"Ligand file not found: {lig_pdbqt}\")\n",
    "        \n",
    "        # Run Vina with timeout\n",
    "        result = subprocess.run([\n",
    "            \"vina\",\n",
    "            \"--receptor\", str(rec_pdbqt),\n",
    "            \"--ligand\", str(lig_pdbqt),\n",
    "            \"--center_x\", \"15\", \"--center_y\", \"15\", \"--center_z\", \"15\",\n",
    "            \"--size_x\", \"30\", \"--size_y\", \"30\", \"--size_z\", \"30\",\n",
    "            \"--exhaustiveness\", \"8\",\n",
    "            \"--num_modes\", \"5\",\n",
    "            \"--out\", str(output_dir / \"docked.pdbqt\"),\n",
    "            \"--log\", str(output_dir / \"log.txt\")\n",
    "        ], capture_output=True, text=True, timeout=300, check=True)\n",
    "        \n",
    "        # Parse scores\n",
    "        scores = []\n",
    "        with open(output_dir / \"log.txt\") as f:\n",
    "            for line in f:\n",
    "                if \"Affinity\" in line:\n",
    "                    try:\n",
    "                        scores.append(float(line.split()[1]))\n",
    "                    except:\n",
    "                        continue\n",
    "        \n",
    "        if not scores:\n",
    "            raise ValueError(\"No docking scores found in output\")\n",
    "            \n",
    "        return scores\n",
    "        \n",
    "    except subprocess.TimeoutExpired:\n",
    "        print(\"❌ Docking timed out after 5 minutes\")\n",
    "        return None\n",
    "    except subprocess.CalledProcessError as e:\n",
    "        print(f\"❌ Vina error: {e.stderr}\")\n",
    "        return None\n",
    "    except Exception as e:\n",
    "        print(f\"❌ Docking failed: {str(e)}\")\n",
    "        return None"
   ]
  },
  {
   "cell_type": "markdown",
   "id": "cd1a18e4-5199-48fd-91e1-44ea1298f0e1",
   "metadata": {},
   "source": [
    "## Binding Site Detection"
   ]
  },
  {
   "cell_type": "code",
   "execution_count": null,
   "id": "58fce250-ebe0-4c1e-a336-e780f8cd07b4",
   "metadata": {},
   "outputs": [],
   "source": [
    "def detect_binding_site(pdb_file):\n",
    "    \"\"\"Find binding site coordinates withrun_vina_docking PyMOL\"\"\"\n",
    "    try:\n",
    "        from pymol import cmd\n",
    "        cmd.reinitialize()\n",
    "        cmd.load(str(pdb_file))\n",
    "        cmd.remove(\"solvent\")\n",
    "        cmd.select(\"binding_site\", \"byres chain A around 5\")\n",
    "        center = cmd.centerofmass(\"binding_site\")\n",
    "        print(f\"🔍 Binding site at: {center}\")\n",
    "        return center\n",
    "    except Exception as e:\n",
    "        print(f\"⚠️ Using default coordinates: {str(e)}\")\n",
    "        return [15, 15, 15]"
   ]
  },
  {
   "cell_type": "markdown",
   "id": "3319f27d-e52b-49ee-bb68-5e1653f3b841",
   "metadata": {},
   "source": [
    "## Visualisation"
   ]
  },
  {
   "cell_type": "code",
   "execution_count": null,
   "id": "7456984a-1871-4b56-b558-fbd1e3753ada",
   "metadata": {},
   "outputs": [],
   "source": [
    "def visualize_docking_results(rec_path, lig_path, docked_path, width=800, height=600):\n",
    "    \"\"\"Enhanced 3D visualization with multiple viewing angles\"\"\"\n",
    "    viewer = py3Dmol.view(width=width, height=height)\n",
    "    \n",
    "    # Add receptor with two visualization styles\n",
    "    with open(rec_path) as f:\n",
    "        viewer.addModel(f.read(), 'pdb')\n",
    "    viewer.setStyle({'chain': 'A'}, {'cartoon': {'color': 'spectrum'}})\n",
    "    viewer.setStyle({'hetflag': True}, {'stick': {'radius': 0.3}})\n",
    "    \n",
    "    # Add original ligand\n",
    "    with open(lig_path) as f:\n",
    "        viewer.addModel(f.read(), 'pdb')\n",
    "    viewer.setStyle({'model': -1}, {'stick': {'colorscheme': 'greenCarbon', 'radius': 0.2}})\n",
    "    \n",
    "    # Add docked poses if available\n",
    "    if docked_path.exists():\n",
    "        with open(docked_path) as f:\n",
    "            viewer.addModel(f.read(), 'pdbqt')\n",
    "        \n",
    "        # Color docked poses by energy (red = worst, blue = best)\n",
    "        viewer.setStyle({'model': -1}, {\n",
    "            'stick': {\n",
    "                'colorscheme': 'rwb', \n",
    "                'radius': 0.3,\n",
    "                'func': 'colorrbf',\n",
    "                'min': -5,  # Worst score\n",
    "                'max': -10  # Best score\n",
    "            }\n",
    "        })\n",
    "    \n",
    "    # Add measurement labels\n",
    "    viewer.addResLabels({'chain': 'A', 'resn': ['ALA','VAL','LEU','ILE']})\n",
    "    viewer.zoomTo()\n",
    "    \n",
    "    # Create multiple views\n",
    "    viewer.addModel(viewer.getModel(), 'view1')\n",
    "    viewer.setViewStyle({'style': 'outline', 'width': 0.1})\n",
    "    viewer.addView(1, [0, 0, 0], [1, 0, 0])\n",
    "    viewer.addView(2, [0, 0, 0], [0, 1, 0])\n",
    "    \n",
    "    return viewer"
   ]
  },
  {
   "cell_type": "markdown",
   "id": "7f4be29e-e10d-4000-bccb-788b15ce8f16",
   "metadata": {},
   "source": [
    "# INPUT INTERFACE"
   ]
  },
  {
   "cell_type": "code",
   "execution_count": 7,
   "id": "bc1436b8-0317-4c63-b04e-95c40c74cf63",
   "metadata": {
    "scrolled": true
   },
   "outputs": [
    {
     "data": {
      "text/html": [
       "\n",
       "<style>\n",
       "    .widget-output {\n",
       "        min-height: 600px !important;\n",
       "        max-height: 800px !important;\n",
       "        overflow-y: auto !important;\n",
       "    }\n",
       "    .viewer_3Dmoljs {\n",
       "        height: 500px !important;\n",
       "        width: 100% !important;\n",
       "    }\n",
       "</style>\n"
      ],
      "text/plain": [
       "<IPython.core.display.HTML object>"
      ]
     },
     "metadata": {},
     "output_type": "display_data"
    },
    {
     "data": {
      "application/vnd.jupyter.widget-view+json": {
       "model_id": "909ad1cacf594e87878ac2a4e0bf0f89",
       "version_major": 2,
       "version_minor": 0
      },
      "text/plain": [
       "VBox(children=(HTML(value='<h1>Synthalis Docking</h1>'), HTML(value='<h3>Receptors (UniProt IDs)</h3>'), VBox(…"
      ]
     },
     "metadata": {},
     "output_type": "display_data"
    }
   ],
   "source": [
    "# Custom CSS\n",
    "display(HTML(\"\"\"\n",
    "<style>\n",
    "    .widget-output {\n",
    "        min-height: 600px !important;\n",
    "        max-height: 800px !important;\n",
    "        overflow-y: auto !important;\n",
    "    }\n",
    "    .viewer_3Dmoljs {\n",
    "        height: 500px !important;\n",
    "        width: 100% !important;\n",
    "    }\n",
    "</style>\n",
    "\"\"\"))\n",
    "\n",
    "# Input fields\n",
    "uniprot_boxes = [\n",
    "    widgets.Text(\n",
    "        value=\"P00520\" if i == 0 else \"\",\n",
    "        placeholder=f'UniProt ID {i+1}',\n",
    "        layout=widgets.Layout(width='95%')\n",
    "    ) for i in range(3)\n",
    "]\n",
    "\n",
    "smiles_boxes = [\n",
    "    widgets.Text(\n",
    "        value=\"CN1C=NC2=C1C(=O)N(C(=O)N2C)C\" if i == 0 else \"\",\n",
    "        placeholder=f'SMILES {i+1}',\n",
    "        layout=widgets.Layout(width='95%')\n",
    "    ) for i in range(3)\n",
    "]\n",
    "\n",
    "# Button and output\n",
    "process_btn = widgets.Button(\n",
    "    description=\"🚀 Run Docking\",\n",
    "    button_style='success',\n",
    "    layout=widgets.Layout(width='300px', height='40px')\n",
    ")\n",
    "\n",
    "output = widgets.Output(layout={\n",
    "    'border': '1px solid #ddd',\n",
    "    'min_height': '600px'\n",
    "})\n",
    "\n",
    "# Display UI\n",
    "display(widgets.VBox([\n",
    "    widgets.HTML(\"<h1>Synthalis Docking</h1>\"),\n",
    "    widgets.HTML(\"<h3>Receptors (UniProt IDs)</h3>\"),\n",
    "    widgets.VBox(uniprot_boxes),\n",
    "    widgets.HTML(\"<h3>Ligands (SMILES)</h3>\"),\n",
    "    widgets.VBox(smiles_boxes),\n",
    "    process_btn,\n",
    "    output\n",
    "]))"
   ]
  },
  {
   "cell_type": "markdown",
   "id": "17024ce4-1846-42f7-8ed0-aa03ab4d5b3e",
   "metadata": {},
   "source": [
    "## Main Workflow"
   ]
  },
  {
   "cell_type": "code",
   "execution_count": null,
   "id": "19aa343d-f33a-4a9d-a722-fa321ddce68b",
   "metadata": {},
   "outputs": [],
   "source": [
    "def on_run_clicked(btn):\n",
    "    with output:\n",
    "        output.clear_output()\n",
    "        print(\"⚡ Starting workflow...\")\n",
    "        \n",
    "        try:\n",
    "            # 1. Get inputs\n",
    "            uniprot_ids = [b.value.strip() for b in uniprot_boxes if b.value.strip()]\n",
    "            smiles_list = [b.value.strip() for b in smiles_boxes if b.value.strip()]\n",
    "            \n",
    "            if not uniprot_ids or not smiles_list:\n",
    "                raise ValueError(\"Please provide at least 1 receptor and 1 ligand\")\n",
    "            \n",
    "            # 2. Prepare structures\n",
    "            rec_paths = [prepare_receptor(uid) for uid in uniprot_ids]\n",
    "            rec_paths = [p for p in rec_paths if p]\n",
    "            \n",
    "            lig_paths = [prepare_ligand(smi, i+1) for i, smi in enumerate(smiles_list)]\n",
    "            lig_paths = [p for p in lig_paths if p]\n",
    "            \n",
    "            if not rec_paths or not lig_paths:\n",
    "                raise ValueError(\"Structure preparation failed\")\n",
    "            \n",
    "            # 3. Run docking\n",
    "            results = []\n",
    "            for rec_path in rec_paths:\n",
    "                for lig_path in lig_paths:\n",
    "                    rec_name = Path(rec_path).stem.replace(\"receptor_\", \"\")\n",
    "                    lig_name = Path(lig_path).stem.replace(\"ligand_\", \"\")\n",
    "                    dock_dir = RESULTS_DIR / f\"{rec_name}_vs_{lig_name}\"\n",
    "                    dock_dir.mkdir(exist_ok=True)\n",
    "                    \n",
    "                    print(f\"\\n🔬 Docking {rec_name} vs {lig_name}\")\n",
    "                    scores = run_docking(rec_path, lig_path, dock_dir)\n",
    "                 run_vina_docking   \n",
    "                    if scores:\n",
    "                        avg_score = np.mean(scores)\n",
    "                        results.append({\n",
    "                            'Receptor': rec_name,\n",
    "                            'Ligand': lig_name,\n",
    "                            'Best Score': f\"{min(scores):.2f}\",\n",
    "                            'Average': f\"{avg_score:.2f}\",\n",
    "                            'Directory': str(dock_dir)\n",
    "                        })\n",
    "                        print(f\"✅ Success! Best score: {min(scores):.2f} kcal/mol\")\n",
    "                    else:\n",
    "                        print(\"❌ Docking failed\")\n",
    "            \n",
    "            # 4. Show results\n",
    "            if results:\n",
    "                print(\"\\n📊 Results Summary:\")\n",
    "                display(pd.DataFrame(results))\n",
    "                \n",
    "                # Visualize first result\n",
    "                first = results[0]\n",
    "                viewer = visualize_3d(\n",
    "                    RECEPTOR_DIR / f\"receptor_{first['Receptor']}.pdb\",\n",
    "                    LIGAND_DIR / f\"ligand_{first['Ligand'].split('_')[0]}.pdb\",\n",
    "                    Path(first['Directory']) / \"docked.pdbqt\"\n",
    "                )\n",
    "                display(viewer)\n",
    "            else:\n",
    "                print(\"No successful docking results\")\n",
    "                \n",
    "            print(\"\\n🎉 Workflow completed!\")\n",
    "            \n",
    "        except Exception as e:\n",
    "            print(f\"\\n❌ Error: {str(e)}\")\n",
    "\n",
    "# Connect button\n",
    "process_btn.on_click(on_run_clicked)\n",
    "print(\"✅ Ready to dock! Enter receptors/ligands and click the button\")"
   ]
  },
  {
   "cell_type": "code",
   "execution_count": null,
   "id": "2c969f5a-5e30-40db-889b-d11c49f2e3ed",
   "metadata": {},
   "outputs": [],
   "source": []
  }
 ],
 "metadata": {
  "kernelspec": {
   "display_name": "Python 3 (ipykernel)",
   "language": "python",
   "name": "python3"
  },
  "language_info": {
   "codemirror_mode": {
    "name": "ipython",
    "version": 3
   },
   "file_extension": ".py",
   "mimetype": "text/x-python",
   "name": "python",
   "nbconvert_exporter": "python",
   "pygments_lexer": "ipython3",
   "version": "3.11.12"
  }
 },
 "nbformat": 4,
 "nbformat_minor": 5
}
