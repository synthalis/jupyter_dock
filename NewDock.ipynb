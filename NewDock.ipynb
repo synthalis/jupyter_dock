{
 "cells": [
  {
   "cell_type": "markdown",
   "id": "cc1b0a09-7b2b-4d62-8d11-18bbb305cb2d",
   "metadata": {},
   "source": [
    "# SYNTHALIS DOCKING\n",
    "##  Upgraded Synthalis Molecular Docking Workflow"
   ]
  },
  {
   "cell_type": "markdown",
   "id": "86f7fa92-8ff3-46cb-8719-fe4e6245152b",
   "metadata": {},
   "source": [
    "## Imports and Setup"
   ]
  },
  {
   "cell_type": "code",
   "execution_count": 1,
   "id": "63c96fc5-ef15-4e6a-bfd4-eb12835ee482",
   "metadata": {},
   "outputs": [],
   "source": [
    "import os\n",
    "import sys\n",
    "import re\n",
    "import shutil\n",
    "import requests\n",
    "import numpy as np\n",
    "import pandas as pd\n",
    "import py3Dmol\n",
    "import subprocess\n",
    "import ipywidgets as widgets\n",
    "from pathlib import Path\n",
    "from IPython.display import display, clear_output, HTML\n",
    "from rdkit import Chem\n",
    "from rdkit.Chem import AllChem, Draw\n",
    "from rdkit import RDLogger\n",
    "RDLogger.DisableLog('rdApp.*')  # Suppress RDKit warnings"
   ]
  },
  {
   "cell_type": "markdown",
   "id": "f3e84bad-33ed-453b-96f9-648f4a3eb12e",
   "metadata": {},
   "source": [
    "## Configuration"
   ]
  },
  {
   "cell_type": "markdown",
   "id": "a473ca01-eb6e-4ca2-8417-8ce713c0e757",
   "metadata": {},
   "source": [
    "## Check Tools"
   ]
  },
  {
   "cell_type": "code",
   "execution_count": 2,
   "id": "7da31db3-e173-4c12-8627-ca0c490c8c01",
   "metadata": {},
   "outputs": [
    {
     "name": "stdout",
     "output_type": "stream",
     "text": [
      "✅ Environment initialized\n"
     ]
    }
   ],
   "source": [
    "SYNTHALISDOCK_PATH = Path(\"/home/imraan/Downloads/Jupyter_Dock\")  # UPDATE THIS PATH\n",
    "BASE_DIR = Path.cwd()\n",
    "DATA_DIR = BASE_DIR / \"synthalisdock_data\"\n",
    "RECEPTOR_DIR = DATA_DIR / \"receptors\"\n",
    "LIGAND_DIR = DATA_DIR / \"ligands\"\n",
    "RESULTS_DIR = DATA_DIR / \"results\"\n",
    "\n",
    "# Create directories\n",
    "for d in [DATA_DIR, RECEPTOR_DIR, LIGAND_DIR, RESULTS_DIR]:\n",
    "    d.mkdir(exist_ok=True, parents=True)\n",
    "\n",
    "print(\"✅ Environment initialized\")"
   ]
  },
  {
   "cell_type": "code",
   "execution_count": 3,
   "id": "0d22d26c-b730-4ab1-95c3-a0e047f91968",
   "metadata": {},
   "outputs": [
    {
     "name": "stdout",
     "output_type": "stream",
     "text": [
      "🔍 Checking minimal requirements:\n",
      "✅ AutoDock Vina: /home/imraan/miniforge3/envs/molecule_dock/bin/vina\n",
      "✅ RDKit: 2024.03.6\n",
      "⚠ OpenBabel found but not required: /home/imraan/Downloads/Jupyter_Dock/mgltools_x86_64Linux2_1.5.7/bin/obabel\n"
     ]
    }
   ],
   "source": [
    "def verify_installation():\n",
    "    print(\"🔍 Checking minimal requirements:\")\n",
    "    \n",
    "    # Check Vina\n",
    "    try:\n",
    "        vina_path = shutil.which(\"vina\")\n",
    "        assert vina_path\n",
    "        print(f\"✅ AutoDock Vina: {vina_path}\")\n",
    "    except:\n",
    "        print(\"❌ AutoDock Vina not found (required)\")\n",
    "    \n",
    "    # Check RDKit\n",
    "    try:\n",
    "        import rdkit\n",
    "        print(f\"✅ RDKit: {rdkit.__version__}\")\n",
    "    except:\n",
    "        print(\"❌ RDKit not installed (required)\")\n",
    "    \n",
    "    # Check OpenBabel (optional)\n",
    "    try:\n",
    "        obabel_path = shutil.which(\"obabel\")\n",
    "        if obabel_path:\n",
    "            print(f\"⚠ OpenBabel found but not required: {obabel_path}\")\n",
    "    except:\n",
    "        pass\n",
    "\n",
    "verify_installation()"
   ]
  },
  {
   "cell_type": "markdown",
   "id": "11e673f7-380b-47da-9530-b46c66236977",
   "metadata": {},
   "source": [
    "## Ligand Prep"
   ]
  },
  {
   "cell_type": "code",
   "execution_count": 4,
   "id": "53b4f9db-896a-4a10-9728-ac825130dd86",
   "metadata": {},
   "outputs": [
    {
     "name": "stdout",
     "output_type": "stream",
     "text": [
      "Ligand prepared at: /home/imraan/Jupyter_Dock/synthalisdock_data/ligands/ligand_1.pdbqt\n"
     ]
    }
   ],
   "source": [
    "def prepare_ligand(smiles, idx):\n",
    "    try:\n",
    "        mol = Chem.MolFromSmiles(smiles)\n",
    "        if not mol:\n",
    "            raise ValueError(\"Invalid SMILES\")\n",
    "        \n",
    "        mol = Chem.AddHs(mol)\n",
    "        AllChem.EmbedMolecule(mol)\n",
    "        AllChem.MMFFOptimizeMolecule(mol)\n",
    "        \n",
    "        pdbqt_file = LIGAND_DIR / f\"ligand_{idx}.pdbqt\"\n",
    "        with open(pdbqt_file, 'w') as f:\n",
    "            f.write(Chem.MolToPDBBlock(mol))\n",
    "        \n",
    "        return pdbqt_file\n",
    "    except Exception as e:\n",
    "        print(f\"❌ Ligand {idx} failed: {e}\")\n",
    "        return None\n",
    "# Test\n",
    "test_lig = prepare_ligand(\"CN1C=NC2=C1C(=O)N(C(=O)N2C)C\", 1)\n",
    "print(f\"Ligand prepared at: {test_lig}\")"
   ]
  },
  {
   "cell_type": "markdown",
   "id": "17937e64-024c-4fb7-b67f-d0f2a0e1c8e1",
   "metadata": {},
   "source": [
    "## Receptor Prep"
   ]
  },
  {
   "cell_type": "code",
   "execution_count": 5,
   "id": "a03b11d0-53c7-4653-a85b-217c14a2801b",
   "metadata": {},
   "outputs": [
    {
     "name": "stdout",
     "output_type": "stream",
     "text": [
      "Receptor prepared at: /home/imraan/Jupyter_Dock/synthalisdock_data/receptors/receptor_E1JJ46.pdbqt\n"
     ]
    }
   ],
   "source": [
    "def prepare_receptor(uniprot_id):\n",
    "    \"\"\"Download and prepare receptor without PDBQT conversion\"\"\"\n",
    "    try:\n",
    "        pdb_file = RECEPTOR_DIR / f\"receptor_{uniprot_id}.pdb\"\n",
    "        \n",
    "        # Download from AlphaFold\n",
    "        if not pdb_file.exists():\n",
    "            url = f\"https://alphafold.ebi.ac.uk/files/AF-{uniprot_id}-F1-model_v4.pdb\"\n",
    "            response = requests.get(url, timeout=30)\n",
    "            response.raise_for_status()\n",
    "            with open(pdb_file, 'w') as f:\n",
    "                f.write(response.text)\n",
    "        \n",
    "        # Create minimal PDBQT file (without charges)\n",
    "        pdbqt_file = RECEPTOR_DIR / f\"receptor_{uniprot_id}.pdbqt\"\n",
    "        with open(pdb_file) as fin, open(pdbqt_file, 'w') as fout:\n",
    "            for line in fin:\n",
    "                if line.startswith((\"ATOM\", \"HETATM\")):\n",
    "                    # Add zero charges and radii\n",
    "                    fout.write(line[:56] + \"  0.00  0.00\\n\")\n",
    "        \n",
    "        return pdbqt_file\n",
    "    except Exception as e:\n",
    "        print(f\"❌ Failed to prepare receptor: {e}\")\n",
    "        return None\n",
    "\n",
    "# Test\n",
    "test_rec = prepare_receptor(\"E1JJ46\")\n",
    "print(f\"Receptor prepared at: {test_rec}\")"
   ]
  },
  {
   "cell_type": "markdown",
   "id": "28537024-d96d-4c2a-89ef-06235087e492",
   "metadata": {},
   "source": [
    "## Docking"
   ]
  },
  {
   "cell_type": "code",
   "execution_count": 6,
   "id": "e6fb75ab-b7a8-4e9b-9f08-f9d977379f95",
   "metadata": {},
   "outputs": [],
   "source": [
    "def run_docking(receptor_pdbqt, ligand_pdbqt, output_dir):\n",
    "    try:\n",
    "        output_dir.mkdir(exist_ok=True, parents=True)\n",
    "        \n",
    "        result = subprocess.run([\n",
    "            \"vina\",\n",
    "            \"--receptor\", str(receptor_pdbqt),\n",
    "            \"--ligand\", str(ligand_pdbqt),\n",
    "            \"--center_x\", \"15\", \"--center_y\", \"15\", \"--center_z\", \"15\",\n",
    "            \"--size_x\", \"30\", \"--size_y\", \"30\", \"--size_z\", \"30\",\n",
    "            \"--exhaustiveness\", \"8\",\n",
    "            \"--out\", str(output_dir / \"docked.pdbqt\"),\n",
    "            \"--log\", str(output_dir / \"log.txt\")\n",
    "        ], capture_output=True, text=True, timeout=300)\n",
    "        \n",
    "        # Parse scores\n",
    "        scores = []\n",
    "        if (output_dir / \"log.txt\").exists():\n",
    "            with open(output_dir / \"log.txt\") as f:\n",
    "                for line in f:\n",
    "                    if \"Affinity\" in line:\n",
    "                        try:\n",
    "                            scores.append(float(line.split()[1]))\n",
    "                        except:\n",
    "                            continue\n",
    "        return scores\n",
    "    except Exception as e:\n",
    "        print(f\"❌ Docking failed: {e}\")\n",
    "        return None"
   ]
  },
  {
   "cell_type": "markdown",
   "id": "771b2218-a379-43cd-b4e2-765ec39f0e9f",
   "metadata": {},
   "source": [
    "## Input"
   ]
  },
  {
   "cell_type": "code",
   "execution_count": 7,
   "id": "b4ee475b-c3a4-41a9-8318-4516ac377c80",
   "metadata": {},
   "outputs": [
    {
     "data": {
      "application/vnd.jupyter.widget-view+json": {
       "model_id": "b9c95ba7510e4340bbdbd1d608d84476",
       "version_major": 2,
       "version_minor": 0
      },
      "text/plain": [
       "VBox(children=(HTML(value=\"<h2 style='color:#1a5276; margin-bottom:20px'>Synthalis Docking</h2>\"), HTML(value=…"
      ]
     },
     "metadata": {},
     "output_type": "display_data"
    }
   ],
   "source": [
    "default_uniprots = [\"P00520\", \"\", \"\", \"\", \"\"]  # First one is tyrosine kinase\n",
    "default_smiles = [\n",
    "    \"CN1C=NC2=C1C(=O)N(C(=O)N2C)C\",  # Caffeine\n",
    "    \"C1=CC=C(C=C1)C=O\",               # Benzaldehyde\n",
    "    \"CC(=O)OC1=CC=CC=C1C(=O)O\",       # Aspirin\n",
    "    \"C1CCCCC1\",                       # Cyclohexane\n",
    "    \"CCO\"                             # Ethanol\n",
    "]\n",
    "\n",
    "# Create input boxes\n",
    "uniprot_boxes = [\n",
    "    widgets.Text(\n",
    "        value=default_uniprots[i],\n",
    "        placeholder=f'UniProt ID {i+1}',\n",
    "        layout=widgets.Layout(width='90%')\n",
    "    ) for i in range(5)\n",
    "]\n",
    "\n",
    "smiles_boxes = [\n",
    "    widgets.Text(\n",
    "        value=default_smiles[i],\n",
    "        placeholder=f'SMILES {i+1}',\n",
    "        layout=widgets.Layout(width='90%')\n",
    "    ) for i in range(5)\n",
    "]\n",
    "\n",
    "# Create labels\n",
    "uniprot_labels = [widgets.Label(f\"Receptor {i+1}\") for i in range(5)]\n",
    "smiles_labels = [widgets.Label(f\"Ligand {i+1}\") for i in range(5)]\n",
    "\n",
    "# Create button\n",
    "process_btn = widgets.Button(\n",
    "    description=\"Run Docking\",\n",
    "    button_style='success',\n",
    "    layout=widgets.Layout(width='200px', margin='20px 0')\n",
    ")\n",
    "\n",
    "# Create output area\n",
    "output = widgets.Output()\n",
    "\n",
    "# Display UI\n",
    "display(widgets.VBox([\n",
    "    widgets.HTML(\"<h2 style='color:#1a5276; margin-bottom:20px'>Synthalis Docking</h2>\"),\n",
    "    \n",
    "    widgets.HTML(\"<h3 style='color:#2874a6; margin-bottom:10px'>Receptors (UniProt IDs)</h3>\"),\n",
    "    widgets.VBox([widgets.HBox([uniprot_labels[i], uniprot_boxes[i]]) for i in range(5)]),\n",
    "    \n",
    "    widgets.HTML(\"<h3 style='color:#2874a6; margin-top:20px; margin-bottom:10px'>Ligands (SMILES)</h3>\"),\n",
    "    widgets.VBox([widgets.HBox([smiles_labels[i], smiles_boxes[i]]) for i in range(5)]),\n",
    "    \n",
    "    process_btn,\n",
    "    output\n",
    "]))"
   ]
  },
  {
   "cell_type": "markdown",
   "id": "1becfde0-4ac5-4d91-8ce8-0ae55ec81c90",
   "metadata": {},
   "source": [
    "## Visualise"
   ]
  },
  {
   "cell_type": "code",
   "execution_count": 8,
   "id": "ec7fa0dc-292a-4cb2-b7c3-2591805b5c05",
   "metadata": {},
   "outputs": [],
   "source": [
    "def visualize_results(receptor_pdb, ligand_pdb, docked_pdbqt=None):\n",
    "    viewer = py3Dmol.view(width=800, height=600)\n",
    "    \n",
    "    # Receptor\n",
    "    with open(receptor_pdb) as f:\n",
    "        viewer.addModel(f.read(), 'pdb')\n",
    "    viewer.setStyle({'cartoon': {'color': 'spectrum'}})\n",
    "    \n",
    "    # Original ligand\n",
    "    with open(ligand_pdb) as f:\n",
    "        viewer.addModel(f.read(), 'pdb')\n",
    "    viewer.setStyle({'model': -1}, {'stick': {'colorscheme': 'greenCarbon'}})\n",
    "    \n",
    "    # Docked pose\n",
    "    if docked_pdbqt and os.path.exists(docked_pdbqt):\n",
    "        with open(docked_pdbqt) as f:\n",
    "            viewer.addModel(f.read(), 'pdbqt')\n",
    "        viewer.setStyle({'model': -1}, {'stick': {'colorscheme': 'redCarbon'}})\n",
    "    \n",
    "    viewer.zoomTo()\n",
    "    return viewer"
   ]
  },
  {
   "cell_type": "markdown",
   "id": "9bffa76b-bd87-4027-9597-2d79a375791f",
   "metadata": {},
   "source": [
    "## Main Workflow"
   ]
  },
  {
   "cell_type": "code",
   "execution_count": 9,
   "id": "47f89b6b-56c5-4819-a8a5-9d3376d5beff",
   "metadata": {},
   "outputs": [
    {
     "ename": "NameError",
     "evalue": "name 'run_btn' is not defined",
     "output_type": "error",
     "traceback": [
      "\u001b[31m---------------------------------------------------------------------------\u001b[39m",
      "\u001b[31mNameError\u001b[39m                                 Traceback (most recent call last)",
      "\u001b[36mCell\u001b[39m\u001b[36m \u001b[39m\u001b[32mIn[9]\u001b[39m\u001b[32m, line 109\u001b[39m\n\u001b[32m    106\u001b[39m             \u001b[38;5;28mprint\u001b[39m(\u001b[33mf\u001b[39m\u001b[33m\"\u001b[39m\u001b[38;5;130;01m\\n\u001b[39;00m\u001b[33m❌ Error: \u001b[39m\u001b[38;5;132;01m{\u001b[39;00m\u001b[38;5;28mstr\u001b[39m(e)\u001b[38;5;132;01m}\u001b[39;00m\u001b[33m\"\u001b[39m)\n\u001b[32m    108\u001b[39m \u001b[38;5;66;03m# Connect button\u001b[39;00m\n\u001b[32m--> \u001b[39m\u001b[32m109\u001b[39m \u001b[43mrun_btn\u001b[49m.on_click(on_run_clicked)\n\u001b[32m    110\u001b[39m \u001b[38;5;28mprint\u001b[39m(\u001b[33m\"\u001b[39m\u001b[33m✅ Ready to dock! Enter proteins/ligands and click the button\u001b[39m\u001b[33m\"\u001b[39m)\n",
      "\u001b[31mNameError\u001b[39m: name 'run_btn' is not defined"
     ]
    }
   ],
   "source": [
    "def on_run_clicked(btn):\n",
    "    with output_area:\n",
    "        output_area.clear_output()\n",
    "        print(\"⚡ Starting Docking Workflow\")\n",
    "        \n",
    "        try:\n",
    "            # Get inputs\n",
    "            uniprot_ids = [b.value.strip() for b in uniprot_inputs if b.value.strip()]\n",
    "            smiles_list = [b.value.strip() for b in smiles_inputs if b.value.strip()]\n",
    "            \n",
    "            if not uniprot_ids or not smiles_list:\n",
    "                raise ValueError(\"Please provide at least 1 receptor and 1 ligand\")\n",
    "            \n",
    "            print(f\"\\n🔬 Input Summary:\")\n",
    "            print(f\"- Receptors: {', '.join(uniprot_ids)}\")\n",
    "            print(f\"- Ligands: {len(smiles_list)} provided\")\n",
    "            \n",
    "            # Prepare receptors\n",
    "            print(\"\\n🛠️ Preparing Receptors...\")\n",
    "            rec_files = []\n",
    "            for uid in uniprot_ids:\n",
    "                print(f\"  - Processing {uid}...\")\n",
    "                rec_file = prepare_receptor(uid)\n",
    "                if rec_file:\n",
    "                    rec_files.append(rec_file)\n",
    "                    print(f\"    ✅ Prepared {rec_file.name}\")\n",
    "                else:\n",
    "                    print(f\"    ❌ Failed to prepare {uid}\")\n",
    "            \n",
    "            # Prepare ligands\n",
    "            print(\"\\n🧪 Preparing Ligands...\")\n",
    "            lig_files = []\n",
    "            for i, smi in enumerate(smiles_list, 1):\n",
    "                print(f\"  - Processing ligand {i}...\")\n",
    "                lig_file = prepare_ligand(smi, i)\n",
    "                if lig_file:\n",
    "                    lig_files.append(lig_file)\n",
    "                    print(f\"    ✅ Prepared {lig_file.name}\")\n",
    "                else:\n",
    "                    print(f\"    ❌ Failed to prepare ligand {i}\")\n",
    "            \n",
    "            if not rec_files or not lig_files:\n",
    "                raise ValueError(\"Structure preparation failed\")\n",
    "            \n",
    "            # Run docking\n",
    "            print(\"\\n⚡ Running Docking...\")\n",
    "            results = []\n",
    "            \n",
    "            for rec_file in rec_files:\n",
    "                for lig_file in lig_files:\n",
    "                    rec_name = Path(rec_file).stem.replace(\"receptor_\", \"\")\n",
    "                    lig_name = Path(lig_file).stem.replace(\"ligand_\", \"\")\n",
    "                    dock_dir = RESULTS_DIR / f\"{rec_name}_vs_{lig_name}\"\n",
    "                    \n",
    "                    print(f\"\\n🔬 Docking {rec_name} + {lig_name}\")\n",
    "                    scores = run_docking(rec_file, lig_file, dock_dir)\n",
    "                    \n",
    "                    if scores:\n",
    "                        best_score = min(scores)\n",
    "                        avg_score = np.mean(scores)\n",
    "                        results.append({\n",
    "                            'Receptor': rec_name,\n",
    "                            'Ligand': lig_name,\n",
    "                            'Best Score': f\"{best_score:.2f}\",\n",
    "                            'Average': f\"{avg_score:.2f}\",\n",
    "                            'Directory': str(dock_dir)\n",
    "                        })\n",
    "                        print(f\"    ✅ Success! Best score: {best_score:.2f} kcal/mol\")\n",
    "                    else:\n",
    "                        print(\"    ❌ Docking failed\")\n",
    "            \n",
    "            # Show results\n",
    "            if results:\n",
    "                print(\"\\n📊 Docking Results:\")\n",
    "                display(pd.DataFrame(results))\n",
    "                \n",
    "                # Visualize first result\n",
    "                first = results[0]\n",
    "                rec_pdb = RECEPTOR_DIR / f\"receptor_{first['Receptor']}.pdb\"\n",
    "                lig_pdb = LIGAND_DIR / f\"ligand_{first['Ligand'].split('_')[0]}.pdb\"\n",
    "                docked_pdbqt = Path(first['Directory']) / \"docked.pdbqt\"\n",
    "                \n",
    "                print(\"\\n👀 Visualizing first result:\")\n",
    "                viewer = py3Dmol.view(width=800, height=600)\n",
    "                with open(rec_pdb) as f:\n",
    "                    viewer.addModel(f.read(), 'pdb')\n",
    "                viewer.setStyle({'cartoon': {'color': 'spectrum'}})\n",
    "                \n",
    "                with open(lig_pdb) as f:\n",
    "                    viewer.addModel(f.read(), 'pdb')\n",
    "                viewer.setStyle({'model': -1}, {'stick': {'colorscheme': 'greenCarbon'}})\n",
    "                \n",
    "                if docked_pdbqt.exists():\n",
    "                    with open(docked_pdbqt) as f:\n",
    "                        viewer.addModel(f.read(), 'pdbqt')\n",
    "                    viewer.setStyle({'model': -1}, {'stick': {'colorscheme': 'redCarbon'}})\n",
    "                \n",
    "                viewer.zoomTo()\n",
    "                display(viewer)\n",
    "            else:\n",
    "                print(\"\\n❌ No successful docking results\")\n",
    "            \n",
    "            print(\"\\n🎉 Workflow completed!\")\n",
    "        \n",
    "        except Exception as e:\n",
    "            print(f\"\\n❌ Error: {str(e)}\")\n",
    "\n",
    "# Connect button\n",
    "run_btn.on_click(on_run_clicked)\n",
    "print(\"✅ Ready to dock! Enter proteins/ligands and click the button\")"
   ]
  },
  {
   "cell_type": "code",
   "execution_count": null,
   "id": "5af54d8f-63ea-4f8d-a033-6d203f463722",
   "metadata": {},
   "outputs": [],
   "source": []
  }
 ],
 "metadata": {
  "kernelspec": {
   "display_name": "Python 3 (ipykernel)",
   "language": "python",
   "name": "python3"
  },
  "language_info": {
   "codemirror_mode": {
    "name": "ipython",
    "version": 3
   },
   "file_extension": ".py",
   "mimetype": "text/x-python",
   "name": "python",
   "nbconvert_exporter": "python",
   "pygments_lexer": "ipython3",
   "version": "3.11.12"
  }
 },
 "nbformat": 4,
 "nbformat_minor": 5
}
