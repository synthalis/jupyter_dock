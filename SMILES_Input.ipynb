{
 "cells": [
  {
   "cell_type": "markdown",
   "metadata": {},
   "source": [
    "# SMILES and LIGAND Input Notebook\n",
    "\n",
    "This notebook provides a simple interface to:\n",
    "\n",
    "1. Enter a SMILES (Simplified Molecular Input Line Entry System) string representing a chemical structure\n",
    "2. Enter a LIGAND name\n",
    "3. Save these inputs to variables for further processing\n",
    "\n",
    "The input cells include basic validation to ensure proper formatting.\n",
    "\n",
    "**Instructions:**\n",
    "- Run the cell below\n",
    "- Enter the requested information when prompted\n",
    "- The values will be stored in variables named `smiles` and `ligand`"
   ]
  },
  {
   "cell_type": "code",
   "execution_count": null,
   "metadata": {},
   "outputs": [
    {
     "name": "stdin",
     "output_type": "stream",
     "text": [
      "Enter SMILES string:  CCO\n"
     ]
    }
   ],
   "source": [
    "# Input cell for SMILES and LIGAND\n",
    "import re\n",
    "\n",
    "def validate_smiles(smiles):\n",
    "    \"\"\"Basic validation for SMILES string\"\"\"\n",
    "    if not smiles:\n",
    "        return False\n",
    "    \n",
    "    # Check if string contains typical SMILES characters\n",
    "    # This is a basic check and not comprehensive\n",
    "    pattern = r'^[A-Za-z0-9@+\\-\\[\\]\\(\\)\\.=#$:%\\/\\\\]+$'\n",
    "    return bool(re.match(pattern, smiles))\n",
    "\n",
    "# Get SMILES input with validation\n",
    "while True:\n",
    "    smiles_input = input(\"Enter SMILES string: \")\n",
    "    if validate_smiles(smiles_input):\n",
    "        smiles = smiles_input\n",
    "        break\n",
    "    else:\n",
    "        print(\"Invalid SMILES format. Please try again.\")\n",
    "\n",
    "# Get LIGAND input with validation\n",
    "while True:\n",
    "    ligand_input = input(\"Enter LIGAND name: \")\n",
    "    if ligand_input.strip():\n",
    "        ligand = ligand_input\n",
    "        break\n",
    "    else:\n",
    "        print(\"LIGAND name cannot be empty. Please try again.\")\n",
    "\n",
    "# Print confirmation\n",
    "print(\"\\nInputs successfully saved:\")\n",
    "print(f\"SMILES: {smiles}\")\n",
    "print(f\"LIGAND: {ligand}\")\n",
    "print(\"\\nThese values are now stored in the variables 'smiles' and 'ligand'\")"
   ]
  }
 ],
 "metadata": {
  "kernelspec": {
   "display_name": "Python 3 (ipykernel)",
   "language": "python",
   "name": "python3"
  },
  "language_info": {
   "codemirror_mode": {
    "name": "ipython",
    "version": 3
   },
   "file_extension": ".py",
   "mimetype": "text/x-python",
   "name": "python",
   "nbconvert_exporter": "python",
   "pygments_lexer": "ipython3",
   "version": "3.11.12"
  }
 },
 "nbformat": 4,
 "nbformat_minor": 4
}
